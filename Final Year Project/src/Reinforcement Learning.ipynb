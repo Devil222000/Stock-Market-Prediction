{
  "nbformat": 4,
  "nbformat_minor": 0,
  "metadata": {
    "colab": {
      "name": "RL_Projectphase1.ipynb",
      "provenance": [],
      "collapsed_sections": []
    },
    "kernelspec": {
      "name": "python3",
      "display_name": "Python 3"
    },
    "language_info": {
      "name": "python"
    }
  },
  "cells": [
    {
      "cell_type": "code",
      "source": [
        "!pip install tensorflow-gpu==1.15.0 tensorflow==1.15.0 stable-baselines gym-anytrading gym"
      ],
      "metadata": {
        "id": "GevrJnO8MKJm"
      },
      "execution_count": null,
      "outputs": []
    },
    {
      "cell_type": "code",
      "source": [
        "# Gym stuff\n",
        "import gym\n",
        "import gym_anytrading\n",
        "\n",
        "# Stable baselines - rl stuff\n",
        "from stable_baselines.common.vec_env import DummyVecEnv\n",
        "from stable_baselines import A2C\n",
        "\n",
        "# Processing libraries\n",
        "import numpy as np\n",
        "import pandas as pd\n",
        "from matplotlib import pyplot as plt"
      ],
      "metadata": {
        "colab": {
          "base_uri": "https://localhost:8080/"
        },
        "id": "cJjyB_CgMCYP",
        "outputId": "e71de87f-d66b-46cf-a4fc-ff01d0b740d6"
      },
      "execution_count": null,
      "outputs": [
        {
          "output_type": "stream",
          "name": "stdout",
          "text": [
            "WARNING:tensorflow:\n",
            "The TensorFlow contrib module will not be included in TensorFlow 2.0.\n",
            "For more information, please see:\n",
            "  * https://github.com/tensorflow/community/blob/master/rfcs/20180907-contrib-sunset.md\n",
            "  * https://github.com/tensorflow/addons\n",
            "  * https://github.com/tensorflow/io (for I/O related ops)\n",
            "If you depend on functionality not listed there, please file an issue.\n",
            "\n"
          ]
        },
        {
          "output_type": "stream",
          "name": "stderr",
          "text": [
            "/usr/local/lib/python3.7/dist-packages/stable_baselines/__init__.py:33: UserWarning: stable-baselines is in maintenance mode, please use [Stable-Baselines3 (SB3)](https://github.com/DLR-RM/stable-baselines3) for an up-to-date version. You can find a [migration guide](https://stable-baselines3.readthedocs.io/en/master/guide/migration.html) in SB3 documentation.\n",
            "  \"stable-baselines is in maintenance mode, please use [Stable-Baselines3 (SB3)](https://github.com/DLR-RM/stable-baselines3) for an up-to-date version. You can find a [migration guide](https://stable-baselines3.readthedocs.io/en/master/guide/migration.html) in SB3 documentation.\"\n"
          ]
        }
      ]
    },
    {
      "cell_type": "code",
      "source": [
        "pip install alpha_vantage"
      ],
      "metadata": {
        "id": "1B7eaWVQM0-M"
      },
      "execution_count": null,
      "outputs": []
    },
    {
      "cell_type": "code",
      "source": [
        "import pandas as pd\n",
        "import matplotlib.pyplot as plt\n",
        "from alpha_vantage.timeseries import TimeSeries"
      ],
      "metadata": {
        "id": "pHJ2vDmQNEeH"
      },
      "execution_count": null,
      "outputs": []
    },
    {
      "cell_type": "code",
      "source": [
        "API_key = 'OFYE21323O0HHV4I'"
      ],
      "metadata": {
        "id": "2TVbJL2wNGi1"
      },
      "execution_count": null,
      "outputs": []
    },
    {
      "cell_type": "code",
      "source": [
        "ts = TimeSeries(key = API_key,output_format='pandas')\n",
        "data, meta = ts.get_intraday('MSFT', interval = '5min' , outputsize = 'full')"
      ],
      "metadata": {
        "id": "m6Z-A4Y9N5uU"
      },
      "execution_count": null,
      "outputs": []
    },
    {
      "cell_type": "code",
      "source": [
        "df = data\n",
        "df.dtypes"
      ],
      "metadata": {
        "colab": {
          "base_uri": "https://localhost:8080/"
        },
        "id": "gUo5HgppN-q0",
        "outputId": "654d60a1-4b45-4b6b-82fb-4272e1aa0321"
      },
      "execution_count": null,
      "outputs": [
        {
          "output_type": "execute_result",
          "data": {
            "text/plain": [
              "date         datetime64[ns]\n",
              "1. open             float64\n",
              "2. high             float64\n",
              "3. low              float64\n",
              "4. close            float64\n",
              "5. volume           float64\n",
              "dtype: object"
            ]
          },
          "metadata": {},
          "execution_count": 18
        }
      ]
    },
    {
      "cell_type": "code",
      "source": [
        "df.set_index('date', inplace=True)\n",
        "df.head()"
      ],
      "metadata": {
        "colab": {
          "base_uri": "https://localhost:8080/",
          "height": 237
        },
        "id": "9B8zYjRmPPHU",
        "outputId": "5ae68520-0d7f-4c7c-8835-b10774336fcf"
      },
      "execution_count": null,
      "outputs": [
        {
          "output_type": "execute_result",
          "data": {
            "text/html": [
              "\n",
              "  <div id=\"df-0a980128-e97d-4be0-9025-5b112cf12d4c\">\n",
              "    <div class=\"colab-df-container\">\n",
              "      <div>\n",
              "<style scoped>\n",
              "    .dataframe tbody tr th:only-of-type {\n",
              "        vertical-align: middle;\n",
              "    }\n",
              "\n",
              "    .dataframe tbody tr th {\n",
              "        vertical-align: top;\n",
              "    }\n",
              "\n",
              "    .dataframe thead th {\n",
              "        text-align: right;\n",
              "    }\n",
              "</style>\n",
              "<table border=\"1\" class=\"dataframe\">\n",
              "  <thead>\n",
              "    <tr style=\"text-align: right;\">\n",
              "      <th></th>\n",
              "      <th>1. open</th>\n",
              "      <th>2. high</th>\n",
              "      <th>3. low</th>\n",
              "      <th>4. close</th>\n",
              "      <th>5. volume</th>\n",
              "    </tr>\n",
              "    <tr>\n",
              "      <th>date</th>\n",
              "      <th></th>\n",
              "      <th></th>\n",
              "      <th></th>\n",
              "      <th></th>\n",
              "      <th></th>\n",
              "    </tr>\n",
              "  </thead>\n",
              "  <tbody>\n",
              "    <tr>\n",
              "      <th>2022-02-18 20:00:00</th>\n",
              "      <td>285.78</td>\n",
              "      <td>285.8500</td>\n",
              "      <td>285.70</td>\n",
              "      <td>285.80</td>\n",
              "      <td>8385.0</td>\n",
              "    </tr>\n",
              "    <tr>\n",
              "      <th>2022-02-18 19:55:00</th>\n",
              "      <td>285.80</td>\n",
              "      <td>285.8500</td>\n",
              "      <td>285.80</td>\n",
              "      <td>285.85</td>\n",
              "      <td>2682.0</td>\n",
              "    </tr>\n",
              "    <tr>\n",
              "      <th>2022-02-18 19:50:00</th>\n",
              "      <td>285.80</td>\n",
              "      <td>285.8500</td>\n",
              "      <td>285.80</td>\n",
              "      <td>285.85</td>\n",
              "      <td>2008.0</td>\n",
              "    </tr>\n",
              "    <tr>\n",
              "      <th>2022-02-18 19:40:00</th>\n",
              "      <td>285.75</td>\n",
              "      <td>285.7500</td>\n",
              "      <td>285.75</td>\n",
              "      <td>285.75</td>\n",
              "      <td>1738.0</td>\n",
              "    </tr>\n",
              "    <tr>\n",
              "      <th>2022-02-18 19:35:00</th>\n",
              "      <td>285.80</td>\n",
              "      <td>285.8201</td>\n",
              "      <td>285.75</td>\n",
              "      <td>285.75</td>\n",
              "      <td>1585.0</td>\n",
              "    </tr>\n",
              "  </tbody>\n",
              "</table>\n",
              "</div>\n",
              "      <button class=\"colab-df-convert\" onclick=\"convertToInteractive('df-0a980128-e97d-4be0-9025-5b112cf12d4c')\"\n",
              "              title=\"Convert this dataframe to an interactive table.\"\n",
              "              style=\"display:none;\">\n",
              "        \n",
              "  <svg xmlns=\"http://www.w3.org/2000/svg\" height=\"24px\"viewBox=\"0 0 24 24\"\n",
              "       width=\"24px\">\n",
              "    <path d=\"M0 0h24v24H0V0z\" fill=\"none\"/>\n",
              "    <path d=\"M18.56 5.44l.94 2.06.94-2.06 2.06-.94-2.06-.94-.94-2.06-.94 2.06-2.06.94zm-11 1L8.5 8.5l.94-2.06 2.06-.94-2.06-.94L8.5 2.5l-.94 2.06-2.06.94zm10 10l.94 2.06.94-2.06 2.06-.94-2.06-.94-.94-2.06-.94 2.06-2.06.94z\"/><path d=\"M17.41 7.96l-1.37-1.37c-.4-.4-.92-.59-1.43-.59-.52 0-1.04.2-1.43.59L10.3 9.45l-7.72 7.72c-.78.78-.78 2.05 0 2.83L4 21.41c.39.39.9.59 1.41.59.51 0 1.02-.2 1.41-.59l7.78-7.78 2.81-2.81c.8-.78.8-2.07 0-2.86zM5.41 20L4 18.59l7.72-7.72 1.47 1.35L5.41 20z\"/>\n",
              "  </svg>\n",
              "      </button>\n",
              "      \n",
              "  <style>\n",
              "    .colab-df-container {\n",
              "      display:flex;\n",
              "      flex-wrap:wrap;\n",
              "      gap: 12px;\n",
              "    }\n",
              "\n",
              "    .colab-df-convert {\n",
              "      background-color: #E8F0FE;\n",
              "      border: none;\n",
              "      border-radius: 50%;\n",
              "      cursor: pointer;\n",
              "      display: none;\n",
              "      fill: #1967D2;\n",
              "      height: 32px;\n",
              "      padding: 0 0 0 0;\n",
              "      width: 32px;\n",
              "    }\n",
              "\n",
              "    .colab-df-convert:hover {\n",
              "      background-color: #E2EBFA;\n",
              "      box-shadow: 0px 1px 2px rgba(60, 64, 67, 0.3), 0px 1px 3px 1px rgba(60, 64, 67, 0.15);\n",
              "      fill: #174EA6;\n",
              "    }\n",
              "\n",
              "    [theme=dark] .colab-df-convert {\n",
              "      background-color: #3B4455;\n",
              "      fill: #D2E3FC;\n",
              "    }\n",
              "\n",
              "    [theme=dark] .colab-df-convert:hover {\n",
              "      background-color: #434B5C;\n",
              "      box-shadow: 0px 1px 3px 1px rgba(0, 0, 0, 0.15);\n",
              "      filter: drop-shadow(0px 1px 2px rgba(0, 0, 0, 0.3));\n",
              "      fill: #FFFFFF;\n",
              "    }\n",
              "  </style>\n",
              "\n",
              "      <script>\n",
              "        const buttonEl =\n",
              "          document.querySelector('#df-0a980128-e97d-4be0-9025-5b112cf12d4c button.colab-df-convert');\n",
              "        buttonEl.style.display =\n",
              "          google.colab.kernel.accessAllowed ? 'block' : 'none';\n",
              "\n",
              "        async function convertToInteractive(key) {\n",
              "          const element = document.querySelector('#df-0a980128-e97d-4be0-9025-5b112cf12d4c');\n",
              "          const dataTable =\n",
              "            await google.colab.kernel.invokeFunction('convertToInteractive',\n",
              "                                                     [key], {});\n",
              "          if (!dataTable) return;\n",
              "\n",
              "          const docLinkHtml = 'Like what you see? Visit the ' +\n",
              "            '<a target=\"_blank\" href=https://colab.research.google.com/notebooks/data_table.ipynb>data table notebook</a>'\n",
              "            + ' to learn more about interactive tables.';\n",
              "          element.innerHTML = '';\n",
              "          dataTable['output_type'] = 'display_data';\n",
              "          await google.colab.output.renderOutput(dataTable, element);\n",
              "          const docLink = document.createElement('div');\n",
              "          docLink.innerHTML = docLinkHtml;\n",
              "          element.appendChild(docLink);\n",
              "        }\n",
              "      </script>\n",
              "    </div>\n",
              "  </div>\n",
              "  "
            ],
            "text/plain": [
              "                     1. open   2. high  3. low  4. close  5. volume\n",
              "date                                                               \n",
              "2022-02-18 20:00:00   285.78  285.8500  285.70    285.80     8385.0\n",
              "2022-02-18 19:55:00   285.80  285.8500  285.80    285.85     2682.0\n",
              "2022-02-18 19:50:00   285.80  285.8500  285.80    285.85     2008.0\n",
              "2022-02-18 19:40:00   285.75  285.7500  285.75    285.75     1738.0\n",
              "2022-02-18 19:35:00   285.80  285.8201  285.75    285.75     1585.0"
            ]
          },
          "metadata": {},
          "execution_count": 19
        }
      ]
    },
    {
      "cell_type": "code",
      "source": [
        "# Stable baselines - rl stuff\n",
        "from stable_baselines.common.vec_env import DummyVecEnv\n",
        "from stable_baselines import A2C\n",
        "# Processing libraries\n",
        "import numpy as np\n",
        "import pandas as pd\n",
        "from matplotlib import pyplot as plt"
      ],
      "metadata": {
        "id": "eZIZqOoDSCJ0"
      },
      "execution_count": null,
      "outputs": []
    },
    {
      "cell_type": "code",
      "source": [
        "#passing the data and creating our environment\n",
        "env = gym.make('stocks-v0', frame_bound=(5,100), window_size=5)"
      ],
      "metadata": {
        "id": "0G0KU5VCPpkE"
      },
      "execution_count": null,
      "outputs": []
    },
    {
      "cell_type": "code",
      "source": [
        "env.signal_features"
      ],
      "metadata": {
        "colab": {
          "base_uri": "https://localhost:8080/"
        },
        "id": "1snu01CnP_IL",
        "outputId": "55b6db21-8446-4b5b-aedd-82dd434ba03a"
      },
      "execution_count": null,
      "outputs": [
        {
          "output_type": "execute_result",
          "data": {
            "text/plain": [
              "array([[ 1.96946945e+02,  0.00000000e+00],\n",
              "       [ 2.02382385e+02,  5.43544000e+00],\n",
              "       [ 2.02982986e+02,  6.00601000e-01],\n",
              "       [ 2.05405411e+02,  2.42242500e+00],\n",
              "       [ 2.08823822e+02,  3.41841100e+00],\n",
              "       [ 2.13493500e+02,  4.66967800e+00],\n",
              "       [ 2.14414413e+02,  9.20913000e-01],\n",
              "       [ 2.16041046e+02,  1.62663300e+00],\n",
              "       [ 2.20360367e+02,  4.31932100e+00],\n",
              "       [ 2.22382385e+02,  2.02201800e+00],\n",
              "       [ 2.19604599e+02, -2.77778600e+00],\n",
              "       [ 2.18028030e+02, -1.57656900e+00],\n",
              "       [ 2.16516510e+02, -1.51152000e+00],\n",
              "       [ 2.14714722e+02, -1.80178800e+00],\n",
              "       [ 2.12632629e+02, -2.08209300e+00],\n",
              "       [ 2.08593597e+02, -4.03903200e+00],\n",
              "       [ 2.08208206e+02, -3.85391000e-01],\n",
              "       [ 2.07787781e+02, -4.20425000e-01],\n",
              "       [ 2.07237244e+02, -5.50537000e-01],\n",
              "       [ 2.10255249e+02,  3.01800500e+00],\n",
              "       [ 2.03878876e+02, -6.37637300e+00],\n",
              "       [ 2.03043045e+02, -8.35831000e-01],\n",
              "       [ 2.04849854e+02,  1.80680900e+00],\n",
              "       [ 2.08093094e+02,  3.24324000e+00],\n",
              "       [ 2.12872879e+02,  4.77978500e+00],\n",
              "       [ 2.12282288e+02, -5.90591000e-01],\n",
              "       [ 2.11006012e+02, -1.27627600e+00],\n",
              "       [ 2.09704712e+02, -1.30130000e+00],\n",
              "       [ 2.04449448e+02, -5.25526400e+00],\n",
              "       [ 2.05010010e+02,  5.60562000e-01],\n",
              "       [ 1.98513519e+02, -6.49649100e+00],\n",
              "       [ 2.01446442e+02,  2.93292300e+00],\n",
              "       [ 2.05400406e+02,  3.95396400e+00],\n",
              "       [ 2.07407410e+02,  2.00700400e+00],\n",
              "       [ 2.12362366e+02,  4.95495600e+00],\n",
              "       [ 2.12557556e+02,  1.95190000e-01],\n",
              "       [ 2.19304306e+02,  6.74675000e+00],\n",
              "       [ 2.21521515e+02,  2.21720900e+00],\n",
              "       [ 2.15340347e+02, -6.18116800e+00],\n",
              "       [ 2.15300293e+02, -4.00540000e-02],\n",
              "       [ 2.14164169e+02, -1.13612400e+00],\n",
              "       [ 2.14059052e+02, -1.05117000e-01],\n",
              "       [ 2.18888885e+02,  4.82983300e+00],\n",
              "       [ 2.23583588e+02,  4.69470300e+00],\n",
              "       [ 2.22622620e+02, -9.60968000e-01],\n",
              "       [ 2.20145142e+02, -2.47747800e+00],\n",
              "       [ 2.18338333e+02, -1.80680900e+00],\n",
              "       [ 2.23043045e+02,  4.70471200e+00],\n",
              "       [ 2.21746750e+02, -1.29629500e+00],\n",
              "       [ 2.26331329e+02,  4.58457900e+00],\n",
              "       [ 2.27092087e+02,  7.60758000e-01],\n",
              "       [ 2.25795792e+02, -1.29629500e+00],\n",
              "       [ 2.25405411e+02, -3.90381000e-01],\n",
              "       [ 2.28778778e+02,  3.37336700e+00],\n",
              "       [ 2.28533539e+02, -2.45239000e-01],\n",
              "       [ 2.27197205e+02, -1.33633400e+00],\n",
              "       [ 2.29519516e+02,  2.32231100e+00],\n",
              "       [ 2.31371368e+02,  1.85185200e+00],\n",
              "       [ 2.30230225e+02, -1.14114300e+00],\n",
              "       [ 2.22667664e+02, -7.56256100e+00],\n",
              "       [ 2.22862869e+02,  1.95205000e-01],\n",
              "       [ 2.22207214e+02, -6.55655000e-01],\n",
              "       [ 2.30435440e+02,  8.22822600e+00],\n",
              "       [ 2.32852859e+02,  2.41741900e+00],\n",
              "       [ 2.34599594e+02,  1.74673500e+00],\n",
              "       [ 2.35920914e+02,  1.32132000e+00],\n",
              "       [ 2.34234238e+02, -1.68667600e+00],\n",
              "       [ 2.33263260e+02, -9.70978000e-01],\n",
              "       [ 2.32607605e+02, -6.55655000e-01],\n",
              "       [ 2.31066071e+02, -1.54153400e+00],\n",
              "       [ 2.28108109e+02, -2.95796200e+00],\n",
              "       [ 2.26731735e+02, -1.37637400e+00],\n",
              "       [ 2.28988983e+02,  2.25724800e+00],\n",
              "       [ 2.30880875e+02,  1.89189200e+00],\n",
              "       [ 2.29539536e+02, -1.34133900e+00],\n",
              "       [ 2.32217224e+02,  2.67768800e+00],\n",
              "       [ 2.35705704e+02,  3.48848000e+00],\n",
              "       [ 2.36306305e+02,  6.00601000e-01],\n",
              "       [ 2.37797791e+02,  1.49148600e+00],\n",
              "       [ 2.39009003e+02,  1.21121200e+00],\n",
              "       [ 2.44389389e+02,  5.38038600e+00],\n",
              "       [ 2.46106110e+02,  1.71672100e+00],\n",
              "       [ 2.45975983e+02, -1.30127000e-01],\n",
              "       [ 2.48748749e+02,  2.77276600e+00],\n",
              "       [ 2.49779785e+02,  1.03103600e+00],\n",
              "       [ 2.49479477e+02, -3.00308000e-01],\n",
              "       [ 2.48633636e+02, -8.45841000e-01],\n",
              "       [ 2.46486481e+02, -2.14715500e+00],\n",
              "       [ 2.49514511e+02,  3.02803000e+00],\n",
              "       [ 2.49514511e+02,  0.00000000e+00],\n",
              "       [ 2.48173172e+02, -1.34133900e+00],\n",
              "       [ 2.43843842e+02, -4.32933000e+00],\n",
              "       [ 2.42532532e+02, -1.31131000e+00],\n",
              "       [ 2.44504501e+02,  1.97196900e+00],\n",
              "       [ 2.49619614e+02,  5.11511300e+00],\n",
              "       [ 2.59029022e+02,  9.40940800e+00],\n",
              "       [ 2.57347351e+02, -1.68167100e+00],\n",
              "       [ 2.58383392e+02,  1.03604100e+00],\n",
              "       [ 2.62282288e+02,  3.89889600e+00],\n",
              "       [ 2.63318329e+02,  1.03604100e+00]])"
            ]
          },
          "metadata": {},
          "execution_count": 23
        }
      ]
    },
    {
      "cell_type": "code",
      "source": [
        "env.action_space"
      ],
      "metadata": {
        "colab": {
          "base_uri": "https://localhost:8080/"
        },
        "id": "qZPqHNqkQW2z",
        "outputId": "564b0a54-7d10-40d7-926f-139f0aeba530"
      },
      "execution_count": null,
      "outputs": [
        {
          "output_type": "execute_result",
          "data": {
            "text/plain": [
              "Discrete(2)"
            ]
          },
          "metadata": {},
          "execution_count": 24
        }
      ]
    },
    {
      "cell_type": "code",
      "source": [
        "state = env.reset()\n",
        "while True: \n",
        "    action = env.action_space.sample()\n",
        "    n_state, reward, done, info = env.step(action)\n",
        "    if done: \n",
        "        print(\"info\", info)\n",
        "        break\n",
        "        \n",
        "plt.figure(figsize=(15,6))\n",
        "plt.cla()\n",
        "env.render_all()\n",
        "plt.show()"
      ],
      "metadata": {
        "colab": {
          "base_uri": "https://localhost:8080/",
          "height": 456
        },
        "id": "XyF1M_mUQasT",
        "outputId": "0c87df89-661a-4d5e-dc44-5ca61336bf04"
      },
      "execution_count": null,
      "outputs": [
        {
          "output_type": "stream",
          "name": "stdout",
          "text": [
            "info {'total_reward': 11.491531999999978, 'total_profit': 0.7273767463315592, 'position': 0}\n"
          ]
        },
        {
          "output_type": "display_data",
          "data": {
            "image/png": "[encoded data removed]",
            "text/plain": [
              "<Figure size 1080x432 with 1 Axes>"
            ]
          },
          "metadata": {
            "needs_background": "light"
          }
        }
      ]
    },
    {
      "cell_type": "code",
      "source": [
        "env_maker = lambda: gym.make('stocks-v0',  frame_bound=(5,100), window_size=5)\n",
        "env = DummyVecEnv([env_maker])"
      ],
      "metadata": {
        "id": "gPtSQXseQrKE"
      },
      "execution_count": null,
      "outputs": []
    },
    {
      "cell_type": "code",
      "source": [
        "model = A2C('MlpLstmPolicy', env, verbose=1) \n",
        "model.learn(total_timesteps=10000)"
      ],
      "metadata": {
        "colab": {
          "base_uri": "https://localhost:8080/"
        },
        "id": "spBhLVhRSRoS",
        "outputId": "249b1cb9-cf57-4c0d-c6a2-0381d50d325e"
      },
      "execution_count": null,
      "outputs": [
        {
          "output_type": "stream",
          "name": "stdout",
          "text": [
            "---------------------------------\n",
            "| explained_variance | -0.909   |\n",
            "| fps                | 21       |\n",
            "| nupdates           | 1        |\n",
            "| policy_entropy     | 0.693    |\n",
            "| total_timesteps    | 5        |\n",
            "| value_loss         | 7.41     |\n",
            "---------------------------------\n",
            "---------------------------------\n",
            "| explained_variance | -23.4    |\n",
            "| fps                | 381      |\n",
            "| nupdates           | 100      |\n",
            "| policy_entropy     | 0.693    |\n",
            "| total_timesteps    | 500      |\n",
            "| value_loss         | 0.000359 |\n",
            "---------------------------------\n",
            "---------------------------------\n",
            "| explained_variance | -0.0101  |\n",
            "| fps                | 406      |\n",
            "| nupdates           | 200      |\n",
            "| policy_entropy     | 0.693    |\n",
            "| total_timesteps    | 1000     |\n",
            "| value_loss         | 3.52     |\n",
            "---------------------------------\n",
            "---------------------------------\n",
            "| explained_variance | -0.00474 |\n",
            "| fps                | 411      |\n",
            "| nupdates           | 300      |\n",
            "| policy_entropy     | 0.693    |\n",
            "| total_timesteps    | 1500     |\n",
            "| value_loss         | 76.3     |\n",
            "---------------------------------\n",
            "---------------------------------\n",
            "| explained_variance | -1.86    |\n",
            "| fps                | 408      |\n",
            "| nupdates           | 400      |\n",
            "| policy_entropy     | 0.692    |\n",
            "| total_timesteps    | 2000     |\n",
            "| value_loss         | 0.000207 |\n",
            "---------------------------------\n",
            "---------------------------------\n",
            "| explained_variance | 7.87e-05 |\n",
            "| fps                | 413      |\n",
            "| nupdates           | 500      |\n",
            "| policy_entropy     | 0.693    |\n",
            "| total_timesteps    | 2500     |\n",
            "| value_loss         | 56.4     |\n",
            "---------------------------------\n",
            "---------------------------------\n",
            "| explained_variance | 0.00546  |\n",
            "| fps                | 419      |\n",
            "| nupdates           | 600      |\n",
            "| policy_entropy     | 0.687    |\n",
            "| total_timesteps    | 3000     |\n",
            "| value_loss         | 0.943    |\n",
            "---------------------------------\n",
            "---------------------------------\n",
            "| explained_variance | 0.00361  |\n",
            "| fps                | 422      |\n",
            "| nupdates           | 700      |\n",
            "| policy_entropy     | 0.693    |\n",
            "| total_timesteps    | 3500     |\n",
            "| value_loss         | 8.86     |\n",
            "---------------------------------\n",
            "---------------------------------\n",
            "| explained_variance | -0.259   |\n",
            "| fps                | 424      |\n",
            "| nupdates           | 800      |\n",
            "| policy_entropy     | 0.693    |\n",
            "| total_timesteps    | 4000     |\n",
            "| value_loss         | 6.24     |\n",
            "---------------------------------\n",
            "---------------------------------\n",
            "| explained_variance | -0.0106  |\n",
            "| fps                | 426      |\n",
            "| nupdates           | 900      |\n",
            "| policy_entropy     | 0.662    |\n",
            "| total_timesteps    | 4500     |\n",
            "| value_loss         | 1.35     |\n",
            "---------------------------------\n",
            "---------------------------------\n",
            "| explained_variance | 0.0157   |\n",
            "| fps                | 428      |\n",
            "| nupdates           | 1000     |\n",
            "| policy_entropy     | 0.612    |\n",
            "| total_timesteps    | 5000     |\n",
            "| value_loss         | 1.74     |\n",
            "---------------------------------\n",
            "---------------------------------\n",
            "| explained_variance | -2.03    |\n",
            "| fps                | 429      |\n",
            "| nupdates           | 1100     |\n",
            "| policy_entropy     | 0.649    |\n",
            "| total_timesteps    | 5500     |\n",
            "| value_loss         | 0.00466  |\n",
            "---------------------------------\n",
            "---------------------------------\n",
            "| explained_variance | -0.00646 |\n",
            "| fps                | 431      |\n",
            "| nupdates           | 1200     |\n",
            "| policy_entropy     | 0.683    |\n",
            "| total_timesteps    | 6000     |\n",
            "| value_loss         | 36.6     |\n",
            "---------------------------------\n",
            "---------------------------------\n",
            "| explained_variance | -0.0344  |\n",
            "| fps                | 431      |\n",
            "| nupdates           | 1300     |\n",
            "| policy_entropy     | 0.666    |\n",
            "| total_timesteps    | 6500     |\n",
            "| value_loss         | 0.941    |\n",
            "---------------------------------\n",
            "---------------------------------\n",
            "| explained_variance | -0.0094  |\n",
            "| fps                | 432      |\n",
            "| nupdates           | 1400     |\n",
            "| policy_entropy     | 0.693    |\n",
            "| total_timesteps    | 7000     |\n",
            "| value_loss         | 12.5     |\n",
            "---------------------------------\n",
            "---------------------------------\n",
            "| explained_variance | 0.625    |\n",
            "| fps                | 435      |\n",
            "| nupdates           | 1500     |\n",
            "| policy_entropy     | 0.685    |\n",
            "| total_timesteps    | 7500     |\n",
            "| value_loss         | 0.00781  |\n",
            "---------------------------------\n",
            "---------------------------------\n",
            "| explained_variance | 0.0354   |\n",
            "| fps                | 435      |\n",
            "| nupdates           | 1600     |\n",
            "| policy_entropy     | 0.691    |\n",
            "| total_timesteps    | 8000     |\n",
            "| value_loss         | 2.08     |\n",
            "---------------------------------\n",
            "---------------------------------\n",
            "| explained_variance | 0.0014   |\n",
            "| fps                | 434      |\n",
            "| nupdates           | 1700     |\n",
            "| policy_entropy     | 0.666    |\n",
            "| total_timesteps    | 8500     |\n",
            "| value_loss         | 52       |\n",
            "---------------------------------\n",
            "---------------------------------\n",
            "| explained_variance | -0.0158  |\n",
            "| fps                | 434      |\n",
            "| nupdates           | 1800     |\n",
            "| policy_entropy     | 0.685    |\n",
            "| total_timesteps    | 9000     |\n",
            "| value_loss         | 4.25     |\n",
            "---------------------------------\n",
            "---------------------------------\n",
            "| explained_variance | -0.209   |\n",
            "| fps                | 435      |\n",
            "| nupdates           | 1900     |\n",
            "| policy_entropy     | 0.687    |\n",
            "| total_timesteps    | 9500     |\n",
            "| value_loss         | 5.25     |\n",
            "---------------------------------\n",
            "---------------------------------\n",
            "| explained_variance | 0.142    |\n",
            "| fps                | 436      |\n",
            "| nupdates           | 2000     |\n",
            "| policy_entropy     | 0.661    |\n",
            "| total_timesteps    | 10000    |\n",
            "| value_loss         | 1.87     |\n",
            "---------------------------------\n"
          ]
        },
        {
          "output_type": "execute_result",
          "data": {
            "text/plain": [
              "<stable_baselines.a2c.a2c.A2C at 0x7f9d4cc55f10>"
            ]
          },
          "metadata": {},
          "execution_count": 41
        }
      ]
    },
    {
      "cell_type": "code",
      "source": [
        "env = gym.make('stocks-v0', frame_bound=(90,110), window_size=5)\n",
        "obs = env.reset()\n",
        "while True: \n",
        "    obs = obs[np.newaxis, ...]\n",
        "    action, _states = model.predict(obs)\n",
        "    obs, rewards, done, info = env.step(action)\n",
        "    if done:\n",
        "        print(\"info\", info)\n",
        "        break"
      ],
      "metadata": {
        "colab": {
          "base_uri": "https://localhost:8080/"
        },
        "id": "jpshI24nTP1Z",
        "outputId": "180a6a87-6b7e-4ac4-99e9-40ea26a3c48e"
      },
      "execution_count": null,
      "outputs": [
        {
          "output_type": "stream",
          "name": "stdout",
          "text": [
            "info {'total_reward': 4.104111000000046, 'total_profit': 0.9723945651271646, 'position': 1}\n"
          ]
        }
      ]
    },
    {
      "cell_type": "code",
      "source": [
        "plt.figure(figsize=(15,6))\n",
        "plt.cla()\n",
        "env.render_all()\n",
        "plt.show()"
      ],
      "metadata": {
        "colab": {
          "base_uri": "https://localhost:8080/",
          "height": 364
        },
        "id": "RlBJVWQoU0eq",
        "outputId": "1aef879b-fccc-4873-a8fa-1f3de49e76b7"
      },
      "execution_count": null,
      "outputs": [
        {
          "output_type": "display_data",
          "data": {
            "image/png": "[encoded data removed]",
            "text/plain": [
              "<Figure size 1080x432 with 1 Axes>"
            ]
          },
          "metadata": {
            "needs_background": "light"
          }
        }
      ]
    },
    {
      "cell_type": "markdown",
      "source": [
        "As we can see, our agent RL bought and sold stocks at random. Our profit margin appears to be greater than 1, so we can determine that our bot has made us profit from the trades it has made. But these were random steps, now let’s properly train our model to get better trades."
      ],
      "metadata": {
        "id": "9mBYb4l5VCfR"
      }
    },
    {
      "cell_type": "code",
      "source": [
        ""
      ],
      "metadata": {
        "id": "UfN53H4uVJd4"
      },
      "execution_count": null,
      "outputs": []
    }
  ]
}